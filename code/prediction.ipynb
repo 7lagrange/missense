{
 "cells": [
  {
   "cell_type": "code",
   "execution_count": null,
   "metadata": {
    "collapsed": true
   },
   "outputs": [],
   "source": [
    "# load model weight and do prediction"
   ]
  },
  {
   "cell_type": "code",
   "execution_count": null,
   "metadata": {
    "collapsed": false
   },
   "outputs": [],
   "source": [
    "from models import CNN_Model, CNN_Model_Mode6"
   ]
  },
  {
   "cell_type": "code",
   "execution_count": null,
   "metadata": {
    "collapsed": false,
    "run_control": {
     "marked": true
    }
   },
   "outputs": [],
   "source": [
    "# cnn \n",
    "\n",
    "weights_path = '../freeze_models/HS_resi_model_mode1-weights-improvement-07-0.94.hdf5'\n",
    "get_last_layer = False\n",
    "layer_index = -3 # merge layer, first is negative, 1-4 is positive\n",
    "\n",
    "prefix = 'HS.'\n",
    "\n",
    "fins = ['../data/case_control/case.anno.rare.' + prefix + 'reformat.csv',\n",
    "        '../data/case_control/DDD_new_0.2.anno.rare.' + prefix + 'reformat.csv',\n",
    "        '../data/case_control/control_1911.anno.rare.' + prefix + 'reformat.csv',\n",
    "        '../data/case_control/control_900.anno.rare.' + prefix + 'reformat.csv',\n",
    "        '../data/case_control/chd_yale.anno.rare.' + prefix + 'reformat.csv',\n",
    "        '../data/case_control/ssc_yale.anno.rare.' + prefix + 'reformat.csv',\n",
    "        '../data/cancer_hotspots/cancer.' + prefix + 'reformat.csv',\n",
    "        '../data/input_data.csv',\n",
    "        '../data/metaSVM/metaSVM_test1.anno.rare.' + prefix + 'reformat.csv',\n",
    "        '../data/metaSVM/metaSVM_test2.anno.rare.' + prefix + 'reformat.csv',\n",
    "        '../data/metaSVM/metaSVM_test3.anno.rare.' + prefix + 'reformat.csv',\n",
    "        '../data/metaSVM/metaSVM_addtest1.anno.rare.' + prefix + 'reformat.csv',\n",
    "        '../data/metaSVM/metaSVM_addtest2.anno.rare.' + prefix + 'reformat.csv',\n",
    "        '../data/metaSVM/metaSVM_train.anno.rare.' + prefix + 'reformat.csv']\n",
    "\n",
    "fouts = []\n",
    "for f in fins:\n",
    "    fouts.append(f.split('.csv')[0] + '.cnn.csv')\n",
    "\n",
    "for fin, fout in zip(fins, fouts):\n",
    "    model = CNN_Model_Mode6(weights_path=weights_path, train_flag=False, verbose=1,\n",
    "                     fname=fin, f_out=fout )\n",
    "    model.pred(get_last_layer=get_last_layer, layer_index=layer_index)"
   ]
  },
  {
   "cell_type": "code",
   "execution_count": null,
   "metadata": {
    "collapsed": true
   },
   "outputs": [],
   "source": []
  }
 ],
 "metadata": {
  "hide_input": false,
  "kernelspec": {
   "display_name": "Python 2",
   "language": "python",
   "name": "python2"
  },
  "language_info": {
   "codemirror_mode": {
    "name": "ipython",
    "version": 2
   },
   "file_extension": ".py",
   "mimetype": "text/x-python",
   "name": "python",
   "nbconvert_exporter": "python",
   "pygments_lexer": "ipython2",
   "version": "2.7.13"
  },
  "toc": {
   "toc_cell": false,
   "toc_number_sections": true,
   "toc_threshold": 6,
   "toc_window_display": false
  }
 },
 "nbformat": 4,
 "nbformat_minor": 2
}
