{
 "cells": [
  {
   "cell_type": "code",
   "execution_count": 1,
   "metadata": {},
   "outputs": [
    {
     "name": "stderr",
     "output_type": "stream",
     "text": [
      "Using TensorFlow backend.\n"
     ]
    }
   ],
   "source": [
    "from models import CNN_Model, CNN_Model_Mode2, CNN_Model_Mode3"
   ]
  },
  {
   "cell_type": "code",
   "execution_count": 1,
   "metadata": {
    "run_control": {
     "marked": true
    }
   },
   "outputs": [
    {
     "name": "stdout",
     "output_type": "stream",
     "text": [
      "../data/ExAC_nonTCGA_missense_all.anno.rare_30000.reformat.csv\n",
      "../data/case_control/control_1911.anno.rare.reformat.csv\n",
      "../data/case_control/control_900.anno.rare.reformat.csv\n",
      "../data/case_control/case.anno.rare.reformat.csv\n",
      "../data/metaSVM/metaSVM_test1.anno.rare.reformat.csv\n",
      "../data/metaSVM/metaSVM_test2.anno.rare.reformat.csv\n",
      "../data/metaSVM/metaSVM_test3.anno.rare.reformat.csv\n",
      "../data/metaSVM/metaSVM_addtest1.anno.rare.reformat.csv\n",
      "../data/metaSVM/metaSVM_addtest2.anno.rare.reformat.csv\n",
      "../data/metaSVM/metaSVM_train.anno.rare.reformat.csv\n",
      "../data/cancer_hotspots/hotspot.anno.rare.reformat.csv\n",
      "../data/case_control/DDD_new_0.2.anno.rare.reformat.csv\n"
     ]
    }
   ],
   "source": [
    "# cnn \n",
    "weights_path = '../models/cnn_model_mode3.hdf5'\n",
    "weights_path = '../models/cnn_model_mode3.hdf5'\n",
    "#HIS_cnn_model_mode3-weights-improvement-35-0.94.hdf5'\n",
    "\n",
    "\n",
    "\n",
    "get_last_layer = True\n",
    "layer_index = -3 # merge layer, first is negative, 1-4 is positive\n",
    "\n",
    "fins = ['../data/ExAC_nonTCGA_missense_all.anno.rare_30000.reformat.csv',\n",
    "        '../data/case_control/control_1911.anno.rare.reformat.csv', \n",
    "        '../data/case_control/control_900.anno.rare.reformat.csv', \n",
    "        '../data/case_control/case.anno.rare.reformat.csv', \n",
    "        '../data/metaSVM/metaSVM_test1.anno.rare.reformat.csv',\n",
    "        '../data/metaSVM/metaSVM_test2.anno.rare.reformat.csv',\n",
    "        '../data/metaSVM/metaSVM_test3.anno.rare.reformat.csv',\n",
    "        '../data/metaSVM/metaSVM_addtest1.anno.rare.reformat.csv',\n",
    "        '../data/metaSVM/metaSVM_addtest2.anno.rare.reformat.csv',\n",
    "        '../data/metaSVM/metaSVM_train.anno.rare.reformat.csv',\n",
    "        '../data/cancer_hotspots/hotspot.anno.rare.reformat.csv',\n",
    "        '../data/case_control/DDD_new_0.2.anno.rare.reformat.csv']\n",
    "\n",
    "fouts = []\n",
    "for f in fins:\n",
    "    print f\n",
    "    fouts.append(f.split('.csv')[0] + '.cnn.csv')\n",
    "\n",
    "# for fin, fout in zip(fins, fouts):\n",
    "#     print fin\n",
    "#     model = CNN_Model_Mode3(weights_path=weights_path, train_flag=False, verbose=1,\n",
    "#                      fname=fin, f_out=fout )\n",
    "#     model.pred(get_last_layer=get_last_layer, layer_index=layer_index)"
   ]
  },
  {
   "cell_type": "code",
   "execution_count": 3,
   "metadata": {
    "collapsed": true
   },
   "outputs": [],
   "source": [
    "# from keras import backend as K\n",
    "# def get_ith_layer_output(self, i=-1, mode='test'):\n",
    "#     ''' see https://keras.io/getting-started/faq/#keras-faq-frequently-asked-keras-questions'''\n",
    "#     get_ith_layer = K.function(\n",
    "#         [self.model.layers[0].input, K.learning_phase()], [self.model.layers[i].output])\n",
    "#     layer_output = get_ith_layer(\n",
    "#         [self.X_pred, 0 if mode == 'test' else 1])[0]\n",
    "#     return layer_output\n",
    "# get_ith_layer_output(model, -4).shape\n",
    "# model.model.layers"
   ]
  },
  {
   "cell_type": "code",
   "execution_count": null,
   "metadata": {
    "collapsed": true
   },
   "outputs": [],
   "source": []
  }
 ],
 "metadata": {
  "hide_input": false,
  "kernelspec": {
   "display_name": "Python 2",
   "language": "python",
   "name": "python2"
  },
  "language_info": {
   "codemirror_mode": {
    "name": "ipython",
    "version": 2
   },
   "file_extension": ".py",
   "mimetype": "text/x-python",
   "name": "python",
   "nbconvert_exporter": "python",
   "pygments_lexer": "ipython2",
   "version": "2.7.13"
  },
  "toc": {
   "toc_cell": false,
   "toc_number_sections": true,
   "toc_threshold": 6,
   "toc_window_display": false
  }
 },
 "nbformat": 4,
 "nbformat_minor": 2
}
