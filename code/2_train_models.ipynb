{
 "cells": [
  {
   "cell_type": "code",
   "execution_count": 1,
   "metadata": {
    "collapsed": false
   },
   "outputs": [
    {
     "name": "stderr",
     "output_type": "stream",
     "text": [
      "Using TensorFlow backend.\n"
     ]
    }
   ],
   "source": [
    "from models import CNN_Model, CNN_Model_Mode6"
   ]
  },
  {
   "cell_type": "code",
   "execution_count": 4,
   "metadata": {
    "collapsed": false
   },
   "outputs": [
    {
     "name": "stdout",
     "output_type": "stream",
     "text": [
      "Loading training data...\n",
      "(25849, 66) (25849, 66)\n",
      "42 cols used: ['MutationAssessor_score_rankscore', 'VEST3_rankscore', 'Polyphen2_HDIV_rankscore', 'SIFT_converted_rankscore', 'PROVEAN_converted_rankscore', 'FATHMM_converted_rankscore', 'GenoCanyon_score_rankscore', 'LRT_converted_rankscore', 'Eigen-phred', 'phyloP20way_mammalian_rankscore', 'GERP++_RS_rankscore', 'SiPhy_29way_logOdds_rankscore', 'phastCons100way_vertebrate_rankscore', 'fathmm-MKL_coding_rankscore', 'phyloP100way_vertebrate_rankscore', 'phastCons20way_mammalian_rankscore', 'GM12878_fitCons_score_rankscore', 'HUVEC_fitCons_score_rankscore', 'integrated_fitCons_score_rankscore', 'H1-hESC_fitCons_score_rankscore', 'blosum62', 'pam250', 'SUMO_diff', 'SUMO_score', 'SUMO_cutoff', 'phospho_cutoff', 'phospho_score', 'phospho_diff', 's_het_log', 'secondary_E', 'secondary_H', 'complex_CORUM', 'preppi_counts', '1000Gp3_AF', 'ExAC_AF', 'gnomad', 'ASA', 'secondary_C', 'gc_content', 'interface', 'ubiquitination', 'BioPlex']\n",
      "('X_train shape:', (41358, 42, 1, 1))\n",
      "(41358, 'train samples')\n",
      "(10340, 'test samples')\n",
      "____________________________________________________________________________________________________\n",
      "Layer (type)                     Output Shape          Param #     Connected to                     \n",
      "====================================================================================================\n",
      "input (InputLayer)               (None, 42, 1, 1)      0                                            \n",
      "____________________________________________________________________________________________________\n",
      "conv2d_11 (Conv2D)               (None, 42, 1, 32)     128         input[0][0]                      \n",
      "____________________________________________________________________________________________________\n",
      "conv2d_12 (Conv2D)               (None, 42, 1, 32)     3104        conv2d_11[0][0]                  \n",
      "____________________________________________________________________________________________________\n",
      "conv2d_13 (Conv2D)               (None, 42, 1, 32)     3104        conv2d_12[0][0]                  \n",
      "____________________________________________________________________________________________________\n",
      "merge_5 (Merge)                  (None, 42, 1, 32)     0           conv2d_11[0][0]                  \n",
      "                                                                   conv2d_13[0][0]                  \n",
      "____________________________________________________________________________________________________\n",
      "activation_5 (Activation)        (None, 42, 1, 32)     0           merge_5[0][0]                    \n",
      "____________________________________________________________________________________________________\n",
      "max_pooling2d_5 (MaxPooling2D)   (None, 21, 1, 32)     0           activation_5[0][0]               \n",
      "____________________________________________________________________________________________________\n",
      "conv2d_14 (Conv2D)               (None, 21, 1, 32)     3104        max_pooling2d_5[0][0]            \n",
      "____________________________________________________________________________________________________\n",
      "conv2d_15 (Conv2D)               (None, 21, 1, 32)     3104        conv2d_14[0][0]                  \n",
      "____________________________________________________________________________________________________\n",
      "merge_6 (Merge)                  (None, 21, 1, 32)     0           max_pooling2d_5[0][0]            \n",
      "                                                                   conv2d_15[0][0]                  \n",
      "____________________________________________________________________________________________________\n",
      "activation_6 (Activation)        (None, 21, 1, 32)     0           merge_6[0][0]                    \n",
      "____________________________________________________________________________________________________\n",
      "max_pooling2d_6 (MaxPooling2D)   (None, 10, 1, 32)     0           activation_6[0][0]               \n",
      "____________________________________________________________________________________________________\n",
      "flatten_3 (Flatten)              (None, 320)           0           max_pooling2d_6[0][0]            \n",
      "____________________________________________________________________________________________________\n",
      "dense_3 (Dense)                  (None, 512)           164352      flatten_3[0][0]                  \n",
      "____________________________________________________________________________________________________\n",
      "dense1 (Dense)                   (None, 1)             513         dense_3[0][0]                    \n",
      "____________________________________________________________________________________________________\n",
      "act2 (Activation)                (None, 1)             0           dense1[0][0]                     \n",
      "====================================================================================================\n",
      "Total params: 177,409\n",
      "Trainable params: 177,409\n",
      "Non-trainable params: 0\n",
      "____________________________________________________________________________________________________\n",
      "None\n",
      "--------------------------------------------------\n",
      "Training...\n",
      "--------------------------------------------------\n",
      "Fitting  model...\n",
      "Train on 41358 samples, validate on 10340 samples\n",
      "Epoch 1/10\n",
      "Epoch 00000: val_loss improved from inf to 0.54065, saving model to ../models/resi_model_mode1-weights-improvement-00-0.72.hdf5\n",
      "6s - loss: 0.6530 - acc: 0.6924 - val_loss: 0.5407 - val_acc: 0.7168\n",
      "Epoch 2/10\n",
      "Epoch 00001: val_loss improved from 0.54065 to 0.51070, saving model to ../models/resi_model_mode1-weights-improvement-01-0.73.hdf5\n",
      "6s - loss: 0.5236 - acc: 0.7286 - val_loss: 0.5107 - val_acc: 0.7279\n",
      "Epoch 3/10\n",
      "Epoch 00002: val_loss improved from 0.51070 to 0.50920, saving model to ../models/resi_model_mode1-weights-improvement-02-0.73.hdf5\n",
      "6s - loss: 0.5136 - acc: 0.7311 - val_loss: 0.5092 - val_acc: 0.7314\n",
      "Epoch 4/10\n",
      "Epoch 00003: val_loss improved from 0.50920 to 0.50684, saving model to ../models/resi_model_mode1-weights-improvement-03-0.73.hdf5\n",
      "6s - loss: 0.5056 - acc: 0.7360 - val_loss: 0.5068 - val_acc: 0.7327\n",
      "Epoch 5/10\n",
      "Epoch 00004: val_loss did not improve\n",
      "6s - loss: 0.4992 - acc: 0.7383 - val_loss: 0.5092 - val_acc: 0.7296\n",
      "Epoch 6/10\n",
      "Epoch 00005: val_loss improved from 0.50684 to 0.49541, saving model to ../models/resi_model_mode1-weights-improvement-05-0.74.hdf5\n",
      "6s - loss: 0.4969 - acc: 0.7389 - val_loss: 0.4954 - val_acc: 0.7402\n",
      "Epoch 7/10\n",
      "Epoch 00006: val_loss improved from 0.49541 to 0.48934, saving model to ../models/resi_model_mode1-weights-improvement-06-0.74.hdf5\n",
      "6s - loss: 0.4917 - acc: 0.7432 - val_loss: 0.4893 - val_acc: 0.7444\n",
      "Epoch 8/10\n",
      "Epoch 00007: val_loss did not improve\n",
      "6s - loss: 0.4879 - acc: 0.7450 - val_loss: 0.4937 - val_acc: 0.7394\n",
      "Epoch 9/10\n",
      "Epoch 00008: val_loss did not improve\n",
      "6s - loss: 0.4831 - acc: 0.7489 - val_loss: 0.4908 - val_acc: 0.7445\n",
      "Epoch 10/10\n",
      "Epoch 00009: val_loss did not improve\n",
      "6s - loss: 0.4798 - acc: 0.7519 - val_loss: 0.4896 - val_acc: 0.7480\n",
      "('Test score:', 0.4895674836935342)\n",
      "('Test accuracy:', 0.74796905222437138)\n"
     ]
    }
   ],
   "source": [
    "\n",
    "weights_path = None \n",
    "model = CNN_Model_Mode6(weights_path=weights_path, train_flag=True, verbose=2,\n",
    "                       nb_epoch=10, batch_size=64, \n",
    "                       fname='../data/input_data.csv', f_out = '../data/output/output_data_mode5.csv')\n",
    "\n",
    "model.train(sub_sample=True)\n",
    "model.pred(get_last_layer=False)"
   ]
  },
  {
   "cell_type": "code",
   "execution_count": null,
   "metadata": {
    "collapsed": true
   },
   "outputs": [],
   "source": []
  }
 ],
 "metadata": {
  "kernelspec": {
   "display_name": "Python [default]",
   "language": "python",
   "name": "python2"
  },
  "language_info": {
   "codemirror_mode": {
    "name": "ipython",
    "version": 2
   },
   "file_extension": ".py",
   "mimetype": "text/x-python",
   "name": "python",
   "nbconvert_exporter": "python",
   "pygments_lexer": "ipython2",
   "version": "2.7.13"
  }
 },
 "nbformat": 4,
 "nbformat_minor": 2
}
