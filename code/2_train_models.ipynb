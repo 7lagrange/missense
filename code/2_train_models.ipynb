{
 "cells": [
  {
   "cell_type": "code",
<<<<<<< HEAD
   "execution_count": 1,
   "metadata": {},
   "outputs": [
    {
     "name": "stderr",
     "output_type": "stream",
     "text": [
      "Using TensorFlow backend.\n"
     ]
    }
   ],
=======
   "execution_count": 3,
   "metadata": {},
   "outputs": [],
>>>>>>> e591edc6fda715c53a768b0cdea48c2a13ac5152
   "source": [
    "from models import CNN_Model, CNN_Model_Mode6"
   ]
  },
  {
   "cell_type": "code",
<<<<<<< HEAD
   "execution_count": 2,
=======
   "execution_count": 4,
>>>>>>> e591edc6fda715c53a768b0cdea48c2a13ac5152
   "metadata": {},
   "outputs": [
    {
     "name": "stdout",
     "output_type": "stream",
     "text": [
<<<<<<< HEAD
      "Loading training data...\n"
     ]
    },
    {
     "name": "stderr",
     "output_type": "stream",
     "text": [
      "/home/local/ARCS/hq2130/anaconda2/lib/python2.7/site-packages/IPython/core/interactiveshell.py:2881: DtypeWarning: Columns (57,61,63) have mixed types. Specify dtype option on import or set low_memory=False.\n",
      "  exec(code_obj, self.user_global_ns, self.user_ns)\n",
      "models.py:346: UserWarning: Update your `Conv2D` call to the Keras 2 API: `Conv2D(32, (3, 1), padding=\"same\", activation=\"relu\")`\n",
      "  x = Convolution2D(nb_filters, kernel_size[0], kernel_size[1], border_mode=\"same\", activation=\"relu\")(input_)\n",
      "models.py:348: UserWarning: Update your `Conv2D` call to the Keras 2 API: `Conv2D(32, (3, 1), padding=\"same\", activation=\"relu\")`\n",
      "  y = Convolution2D(nb_filters, kernel_size[0], kernel_size[1], border_mode=\"same\", activation=\"relu\")(x)\n",
      "models.py:349: UserWarning: Update your `Conv2D` call to the Keras 2 API: `Conv2D(32, (3, 1), padding=\"same\")`\n",
      "  y = Convolution2D(nb_filters, kernel_size[0], kernel_size[1], border_mode=\"same\")(y)\n",
      "models.py:350: UserWarning: The `merge` function is deprecated and will be removed after 08/2017. Use instead layers from `keras.layers.merge`, e.g. `add`, `concatenate`, etc.\n",
      "  x = merge([x, y], mode=\"sum\")\n",
      "/home/local/ARCS/hq2130/anaconda2/lib/python2.7/site-packages/keras/legacy/layers.py:460: UserWarning: The `Merge` layer is deprecated and will be removed after 08/2017. Use instead layers from `keras.layers.merge`, e.g. `add`, `concatenate`, etc.\n",
      "  name=name)\n",
      "models.py:359: UserWarning: Update your `Model` call to the Keras 2 API: `Model(outputs=Tensor(\"ac..., inputs=Tensor(\"in...)`\n",
      "  self.model = Model(input=input_, output=act2)\n"
     ]
    },
    {
     "name": "stdout",
     "output_type": "stream",
     "text": [
      "(24963, 66) (24963, 66)\n",
      "42 cols used: ['MutationAssessor_score_rankscore', 'VEST3_rankscore', 'Polyphen2_HDIV_rankscore', 'SIFT_converted_rankscore', 'PROVEAN_converted_rankscore', 'FATHMM_converted_rankscore', 'GenoCanyon_score_rankscore', 'LRT_converted_rankscore', 'Eigen-phred', 'phyloP20way_mammalian_rankscore', 'GERP++_RS_rankscore', 'SiPhy_29way_logOdds_rankscore', 'phastCons100way_vertebrate_rankscore', 'fathmm-MKL_coding_rankscore', 'phyloP100way_vertebrate_rankscore', 'phastCons20way_mammalian_rankscore', 'GM12878_fitCons_score_rankscore', 'HUVEC_fitCons_score_rankscore', 'integrated_fitCons_score_rankscore', 'H1-hESC_fitCons_score_rankscore', 'blosum62', 'pam250', 'SUMO_diff', 'SUMO_score', 'SUMO_cutoff', 'phospho_cutoff', 'phospho_score', 'phospho_diff', 's_het_log', 'secondary_E', 'secondary_H', 'complex_CORUM', 'preppi_counts', '1000Gp3_AF', 'ExAC_AF', 'gnomad', 'ASA', 'secondary_C', 'gc_content', 'interface', 'ubiquitination', 'BioPlex']\n",
      "('X_train shape:', (39940, 42, 1, 1))\n",
      "(39940, 'train samples')\n",
      "(9986, 'test samples')\n",
=======
      "Loading training data...\n",
      "(19634, 66) (19634, 66)\n",
      "42 cols used: ['MutationAssessor_score_rankscore', 'VEST3_rankscore', 'Polyphen2_HDIV_rankscore', 'SIFT_converted_rankscore', 'PROVEAN_converted_rankscore', 'FATHMM_converted_rankscore', 'GenoCanyon_score_rankscore', 'LRT_converted_rankscore', 'Eigen-phred', 'phyloP20way_mammalian_rankscore', 'GERP++_RS_rankscore', 'SiPhy_29way_logOdds_rankscore', 'phastCons100way_vertebrate_rankscore', 'fathmm-MKL_coding_rankscore', 'phyloP100way_vertebrate_rankscore', 'phastCons20way_mammalian_rankscore', 'GM12878_fitCons_score_rankscore', 'HUVEC_fitCons_score_rankscore', 'integrated_fitCons_score_rankscore', 'H1-hESC_fitCons_score_rankscore', 'blosum62', 'pam250', 'SUMO_diff', 'SUMO_score', 'SUMO_cutoff', 'phospho_cutoff', 'phospho_score', 'phospho_diff', 's_het_log', 'secondary_E', 'secondary_H', 'complex_CORUM', 'preppi_counts', '1000Gp3_AF', 'ExAC_AF', 'gnomad', 'ASA', 'secondary_C', 'gc_content', 'interface', 'ubiquitination', 'BioPlex']\n",
      "('X_train shape:', (31414, 42, 1, 1))\n",
      "(31414, 'train samples')\n",
      "(7854, 'test samples')\n",
>>>>>>> e591edc6fda715c53a768b0cdea48c2a13ac5152
      "____________________________________________________________________________________________________\n",
      "Layer (type)                     Output Shape          Param #     Connected to                     \n",
      "====================================================================================================\n",
      "input (InputLayer)               (None, 42, 1, 1)      0                                            \n",
      "____________________________________________________________________________________________________\n",
<<<<<<< HEAD
      "conv2d_1 (Conv2D)                (None, 42, 1, 32)     128         input[0][0]                      \n",
      "____________________________________________________________________________________________________\n",
      "conv2d_2 (Conv2D)                (None, 42, 1, 32)     3104        conv2d_1[0][0]                   \n",
      "____________________________________________________________________________________________________\n",
      "conv2d_3 (Conv2D)                (None, 42, 1, 32)     3104        conv2d_2[0][0]                   \n",
      "____________________________________________________________________________________________________\n",
      "merge_1 (Merge)                  (None, 42, 1, 32)     0           conv2d_1[0][0]                   \n",
      "                                                                   conv2d_3[0][0]                   \n",
      "____________________________________________________________________________________________________\n",
      "activation_1 (Activation)        (None, 42, 1, 32)     0           merge_1[0][0]                    \n",
      "____________________________________________________________________________________________________\n",
      "max_pooling2d_1 (MaxPooling2D)   (None, 21, 1, 32)     0           activation_1[0][0]               \n",
      "____________________________________________________________________________________________________\n",
      "conv2d_4 (Conv2D)                (None, 21, 1, 32)     3104        max_pooling2d_1[0][0]            \n",
      "____________________________________________________________________________________________________\n",
      "conv2d_5 (Conv2D)                (None, 21, 1, 32)     3104        conv2d_4[0][0]                   \n",
      "____________________________________________________________________________________________________\n",
      "merge_2 (Merge)                  (None, 21, 1, 32)     0           max_pooling2d_1[0][0]            \n",
      "                                                                   conv2d_5[0][0]                   \n",
      "____________________________________________________________________________________________________\n",
      "activation_2 (Activation)        (None, 21, 1, 32)     0           merge_2[0][0]                    \n",
      "____________________________________________________________________________________________________\n",
      "max_pooling2d_2 (MaxPooling2D)   (None, 10, 1, 32)     0           activation_2[0][0]               \n",
      "____________________________________________________________________________________________________\n",
      "flatten_1 (Flatten)              (None, 320)           0           max_pooling2d_2[0][0]            \n",
      "____________________________________________________________________________________________________\n",
      "dense_1 (Dense)                  (None, 512)           164352      flatten_1[0][0]                  \n",
      "____________________________________________________________________________________________________\n",
      "dense1 (Dense)                   (None, 1)             513         dense_1[0][0]                    \n",
=======
      "conv2d_6 (Conv2D)                (None, 42, 1, 32)     128         input[0][0]                      \n",
      "____________________________________________________________________________________________________\n",
      "conv2d_7 (Conv2D)                (None, 42, 1, 32)     3104        conv2d_6[0][0]                   \n",
      "____________________________________________________________________________________________________\n",
      "conv2d_8 (Conv2D)                (None, 42, 1, 32)     3104        conv2d_7[0][0]                   \n",
      "____________________________________________________________________________________________________\n",
      "merge_3 (Merge)                  (None, 42, 1, 32)     0           conv2d_6[0][0]                   \n",
      "                                                                   conv2d_8[0][0]                   \n",
      "____________________________________________________________________________________________________\n",
      "activation_3 (Activation)        (None, 42, 1, 32)     0           merge_3[0][0]                    \n",
      "____________________________________________________________________________________________________\n",
      "max_pooling2d_3 (MaxPooling2D)   (None, 21, 1, 32)     0           activation_3[0][0]               \n",
      "____________________________________________________________________________________________________\n",
      "conv2d_9 (Conv2D)                (None, 21, 1, 32)     3104        max_pooling2d_3[0][0]            \n",
      "____________________________________________________________________________________________________\n",
      "conv2d_10 (Conv2D)               (None, 21, 1, 32)     3104        conv2d_9[0][0]                   \n",
      "____________________________________________________________________________________________________\n",
      "merge_4 (Merge)                  (None, 21, 1, 32)     0           max_pooling2d_3[0][0]            \n",
      "                                                                   conv2d_10[0][0]                  \n",
      "____________________________________________________________________________________________________\n",
      "activation_4 (Activation)        (None, 21, 1, 32)     0           merge_4[0][0]                    \n",
      "____________________________________________________________________________________________________\n",
      "max_pooling2d_4 (MaxPooling2D)   (None, 10, 1, 32)     0           activation_4[0][0]               \n",
      "____________________________________________________________________________________________________\n",
      "flatten_2 (Flatten)              (None, 320)           0           max_pooling2d_4[0][0]            \n",
      "____________________________________________________________________________________________________\n",
      "dense_2 (Dense)                  (None, 512)           164352      flatten_2[0][0]                  \n",
      "____________________________________________________________________________________________________\n",
      "dense1 (Dense)                   (None, 1)             513         dense_2[0][0]                    \n",
>>>>>>> e591edc6fda715c53a768b0cdea48c2a13ac5152
      "____________________________________________________________________________________________________\n",
      "act2 (Activation)                (None, 1)             0           dense1[0][0]                     \n",
      "====================================================================================================\n",
      "Total params: 177,409\n",
      "Trainable params: 177,409\n",
      "Non-trainable params: 0\n",
      "____________________________________________________________________________________________________\n",
      "None\n",
      "--------------------------------------------------\n",
      "Training...\n",
      "--------------------------------------------------\n",
      "Fitting  model...\n",
<<<<<<< HEAD
      "Train on 39940 samples, validate on 9986 samples\n",
      "Epoch 1/2\n",
      "Epoch 00000: val_loss improved from inf to 0.20396, saving model to ../models/res_HS-weights-improvement-00-0.92.hdf5\n",
      "5s - loss: 0.3610 - acc: 0.8711 - val_loss: 0.2040 - val_acc: 0.9213\n",
      "Epoch 2/2\n",
      "Epoch 00001: val_loss improved from 0.20396 to 0.18738, saving model to ../models/res_HS-weights-improvement-01-0.93.hdf5\n",
      "5s - loss: 0.2011 - acc: 0.9269 - val_loss: 0.1874 - val_acc: 0.9336\n",
      "('Test score:', 0.18737635903706562)\n",
      "('Test accuracy:', 0.9336070498698178)\n"
=======
      "Train on 31414 samples, validate on 7854 samples\n",
      "Epoch 1/10\n",
      "Epoch 00000: val_loss improved from inf to 0.22962, saving model to ../models/resi_model_mode1-weights-improvement-00-0.92.hdf5\n",
      "6s - loss: 0.4181 - acc: 0.8665 - val_loss: 0.2296 - val_acc: 0.9202\n",
      "Epoch 2/10\n",
      "Epoch 00001: val_loss improved from 0.22962 to 0.15914, saving model to ../models/resi_model_mode1-weights-improvement-01-0.94.hdf5\n",
      "6s - loss: 0.1723 - acc: 0.9358 - val_loss: 0.1591 - val_acc: 0.9396\n",
      "Epoch 3/10\n",
      "Epoch 00002: val_loss improved from 0.15914 to 0.15638, saving model to ../models/resi_model_mode1-weights-improvement-02-0.94.hdf5\n",
      "6s - loss: 0.1630 - acc: 0.9403 - val_loss: 0.1564 - val_acc: 0.9402\n",
      "Epoch 4/10\n",
      "Epoch 00003: val_loss improved from 0.15638 to 0.15193, saving model to ../models/resi_model_mode1-weights-improvement-03-0.94.hdf5\n",
      "6s - loss: 0.1496 - acc: 0.9425 - val_loss: 0.1519 - val_acc: 0.9419\n",
      "Epoch 5/10\n",
      "Epoch 00004: val_loss did not improve\n",
      "6s - loss: 0.1463 - acc: 0.9449 - val_loss: 0.1667 - val_acc: 0.9396\n",
      "Epoch 6/10\n",
      "Epoch 00005: val_loss improved from 0.15193 to 0.14173, saving model to ../models/resi_model_mode1-weights-improvement-05-0.95.hdf5\n",
      "5s - loss: 0.1412 - acc: 0.9470 - val_loss: 0.1417 - val_acc: 0.9472\n",
      "Epoch 7/10\n",
      "Epoch 00006: val_loss did not improve\n",
      "4s - loss: 0.1362 - acc: 0.9493 - val_loss: 0.1586 - val_acc: 0.9424\n",
      "Epoch 8/10\n",
      "Epoch 00007: val_loss did not improve\n",
      "4s - loss: 0.1330 - acc: 0.9499 - val_loss: 0.1441 - val_acc: 0.9441\n",
      "Epoch 9/10\n",
      "Epoch 00008: val_loss did not improve\n",
      "4s - loss: 0.1323 - acc: 0.9509 - val_loss: 0.1420 - val_acc: 0.9477\n",
      "Epoch 10/10\n",
      "Epoch 00009: val_loss improved from 0.14173 to 0.14088, saving model to ../models/resi_model_mode1-weights-improvement-09-0.95.hdf5\n",
      "4s - loss: 0.1305 - acc: 0.9516 - val_loss: 0.1409 - val_acc: 0.9503\n",
      "('Test score:', 0.14088284856631977)\n",
      "('Test accuracy:', 0.95034377382765112)\n"
>>>>>>> e591edc6fda715c53a768b0cdea48c2a13ac5152
     ]
    }
   ],
   "source": [
<<<<<<< HEAD
    "prefix = 'HS'\n",
    "weights_path = None \n",
    "model = CNN_Model_Mode6(weights_path=weights_path, train_flag=True, verbose=2,\n",
    "                       nb_epoch=2, batch_size=64, \n",
    "                       name = 'res_' + prefix, \n",
    "                       fname='../data/input_data.' + prefix + '.csv', f_out = '../data/output/output_data_mode5.csv')\n",
=======
    "\n",
    "weights_path = None \n",
    "model = CNN_Model_Mode6(weights_path=weights_path, train_flag=True, verbose=2,\n",
    "                       nb_epoch=10, batch_size=64, \n",
    "                       fname='../data/input_data.csv', f_out = '../data/output/output_data_mode5.csv')\n",
>>>>>>> e591edc6fda715c53a768b0cdea48c2a13ac5152
    "\n",
    "model.train(sub_sample=True)\n",
    "model.pred(get_last_layer=False)"
   ]
  },
  {
   "cell_type": "code",
   "execution_count": null,
   "metadata": {
    "collapsed": true
   },
   "outputs": [],
   "source": []
  }
 ],
 "metadata": {
  "kernelspec": {
   "display_name": "Python [default]",
   "language": "python",
   "name": "python2"
  },
  "language_info": {
   "codemirror_mode": {
    "name": "ipython",
    "version": 2
   },
   "file_extension": ".py",
   "mimetype": "text/x-python",
   "name": "python",
   "nbconvert_exporter": "python",
   "pygments_lexer": "ipython2",
   "version": "2.7.13"
  }
 },
 "nbformat": 4,
 "nbformat_minor": 2
}
