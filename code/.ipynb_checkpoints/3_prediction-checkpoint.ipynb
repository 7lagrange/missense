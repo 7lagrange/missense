{
 "cells": [
  {
   "cell_type": "markdown",
   "metadata": {
    "collapsed": true
   },
   "source": [
    "# load model weight and do prediction"
   ]
  },
  {
   "cell_type": "code",
   "execution_count": null,
   "metadata": {},
   "outputs": [
    {
     "name": "stderr",
     "output_type": "stream",
     "text": [
      "Using TensorFlow backend.\n"
     ]
    }
   ],
   "source": [
    "from models import CNN_Model, CNN_Model_Mode6"
   ]
  },
  {
   "cell_type": "code",
   "execution_count": null,
   "metadata": {
    "run_control": {
     "marked": true
    }
   },
   "outputs": [
    {
     "name": "stdout",
     "output_type": "stream",
     "text": [
      "Loading training data...\n",
      "42 cols used: ['MutationAssessor_score_rankscore', 'VEST3_rankscore', 'Polyphen2_HDIV_rankscore', 'SIFT_converted_rankscore', 'PROVEAN_converted_rankscore', 'FATHMM_converted_rankscore', 'GenoCanyon_score_rankscore', 'LRT_converted_rankscore', 'Eigen-phred', 'phyloP20way_mammalian_rankscore', 'GERP++_RS_rankscore', 'SiPhy_29way_logOdds_rankscore', 'phastCons100way_vertebrate_rankscore', 'fathmm-MKL_coding_rankscore', 'phyloP100way_vertebrate_rankscore', 'phastCons20way_mammalian_rankscore', 'GM12878_fitCons_score_rankscore', 'HUVEC_fitCons_score_rankscore', 'integrated_fitCons_score_rankscore', 'H1-hESC_fitCons_score_rankscore', 'blosum62', 'pam250', 'SUMO_diff', 'SUMO_score', 'SUMO_cutoff', 'phospho_cutoff', 'phospho_score', 'phospho_diff', 's_het_log', 'secondary_E', 'secondary_H', 'complex_CORUM', 'preppi_counts', '1000Gp3_AF', 'ExAC_AF', 'gnomad', 'ASA', 'secondary_C', 'gc_content', 'interface', 'ubiquitination', 'BioPlex']\n"
     ]
    },
    {
     "name": "stderr",
     "output_type": "stream",
     "text": [
      "models.py:333: UserWarning: Update your `Conv2D` call to the Keras 2 API: `Conv2D(32, (3, 1), padding=\"same\", activation=\"relu\")`\n",
      "  x = Convolution2D(nb_filters, kernel_size[0], kernel_size[1], border_mode=\"same\", activation=\"relu\")(input_)\n",
      "models.py:335: UserWarning: Update your `Conv2D` call to the Keras 2 API: `Conv2D(32, (3, 1), padding=\"same\", activation=\"relu\")`\n",
      "  y = Convolution2D(nb_filters, kernel_size[0], kernel_size[1], border_mode=\"same\", activation=\"relu\")(x)\n",
      "models.py:336: UserWarning: Update your `Conv2D` call to the Keras 2 API: `Conv2D(32, (3, 1), padding=\"same\")`\n",
      "  y = Convolution2D(nb_filters, kernel_size[0], kernel_size[1], border_mode=\"same\")(y)\n",
      "models.py:337: UserWarning: The `merge` function is deprecated and will be removed after 08/2017. Use instead layers from `keras.layers.merge`, e.g. `add`, `concatenate`, etc.\n",
      "  x = merge([x, y], mode=\"sum\")\n",
      "/home/local/ARCS/hq2130/anaconda2/lib/python2.7/site-packages/keras/legacy/layers.py:460: UserWarning: The `Merge` layer is deprecated and will be removed after 08/2017. Use instead layers from `keras.layers.merge`, e.g. `add`, `concatenate`, etc.\n",
      "  name=name)\n",
      "models.py:346: UserWarning: Update your `Model` call to the Keras 2 API: `Model(outputs=Tensor(\"ac..., inputs=Tensor(\"in...)`\n",
      "  self.model = Model(input=input_, output=act2)\n"
     ]
    },
    {
     "name": "stdout",
     "output_type": "stream",
     "text": [
      "Loading training data...\n",
      "42 cols used: ['MutationAssessor_score_rankscore', 'VEST3_rankscore', 'Polyphen2_HDIV_rankscore', 'SIFT_converted_rankscore', 'PROVEAN_converted_rankscore', 'FATHMM_converted_rankscore', 'GenoCanyon_score_rankscore', 'LRT_converted_rankscore', 'Eigen-phred', 'phyloP20way_mammalian_rankscore', 'GERP++_RS_rankscore', 'SiPhy_29way_logOdds_rankscore', 'phastCons100way_vertebrate_rankscore', 'fathmm-MKL_coding_rankscore', 'phyloP100way_vertebrate_rankscore', 'phastCons20way_mammalian_rankscore', 'GM12878_fitCons_score_rankscore', 'HUVEC_fitCons_score_rankscore', 'integrated_fitCons_score_rankscore', 'H1-hESC_fitCons_score_rankscore', 'blosum62', 'pam250', 'SUMO_diff', 'SUMO_score', 'SUMO_cutoff', 'phospho_cutoff', 'phospho_score', 'phospho_diff', 's_het_log', 'secondary_E', 'secondary_H', 'complex_CORUM', 'preppi_counts', '1000Gp3_AF', 'ExAC_AF', 'gnomad', 'ASA', 'secondary_C', 'gc_content', 'interface', 'ubiquitination', 'BioPlex']\n",
      "Loading training data...\n",
      "42 cols used: ['MutationAssessor_score_rankscore', 'VEST3_rankscore', 'Polyphen2_HDIV_rankscore', 'SIFT_converted_rankscore', 'PROVEAN_converted_rankscore', 'FATHMM_converted_rankscore', 'GenoCanyon_score_rankscore', 'LRT_converted_rankscore', 'Eigen-phred', 'phyloP20way_mammalian_rankscore', 'GERP++_RS_rankscore', 'SiPhy_29way_logOdds_rankscore', 'phastCons100way_vertebrate_rankscore', 'fathmm-MKL_coding_rankscore', 'phyloP100way_vertebrate_rankscore', 'phastCons20way_mammalian_rankscore', 'GM12878_fitCons_score_rankscore', 'HUVEC_fitCons_score_rankscore', 'integrated_fitCons_score_rankscore', 'H1-hESC_fitCons_score_rankscore', 'blosum62', 'pam250', 'SUMO_diff', 'SUMO_score', 'SUMO_cutoff', 'phospho_cutoff', 'phospho_score', 'phospho_diff', 's_het_log', 'secondary_E', 'secondary_H', 'complex_CORUM', 'preppi_counts', '1000Gp3_AF', 'ExAC_AF', 'gnomad', 'ASA', 'secondary_C', 'gc_content', 'interface', 'ubiquitination', 'BioPlex']\n",
      "Loading training data...\n",
      "42 cols used: ['MutationAssessor_score_rankscore', 'VEST3_rankscore', 'Polyphen2_HDIV_rankscore', 'SIFT_converted_rankscore', 'PROVEAN_converted_rankscore', 'FATHMM_converted_rankscore', 'GenoCanyon_score_rankscore', 'LRT_converted_rankscore', 'Eigen-phred', 'phyloP20way_mammalian_rankscore', 'GERP++_RS_rankscore', 'SiPhy_29way_logOdds_rankscore', 'phastCons100way_vertebrate_rankscore', 'fathmm-MKL_coding_rankscore', 'phyloP100way_vertebrate_rankscore', 'phastCons20way_mammalian_rankscore', 'GM12878_fitCons_score_rankscore', 'HUVEC_fitCons_score_rankscore', 'integrated_fitCons_score_rankscore', 'H1-hESC_fitCons_score_rankscore', 'blosum62', 'pam250', 'SUMO_diff', 'SUMO_score', 'SUMO_cutoff', 'phospho_cutoff', 'phospho_score', 'phospho_diff', 's_het_log', 'secondary_E', 'secondary_H', 'complex_CORUM', 'preppi_counts', '1000Gp3_AF', 'ExAC_AF', 'gnomad', 'ASA', 'secondary_C', 'gc_content', 'interface', 'ubiquitination', 'BioPlex']\n",
      "Loading training data...\n",
      "42 cols used: ['MutationAssessor_score_rankscore', 'VEST3_rankscore', 'Polyphen2_HDIV_rankscore', 'SIFT_converted_rankscore', 'PROVEAN_converted_rankscore', 'FATHMM_converted_rankscore', 'GenoCanyon_score_rankscore', 'LRT_converted_rankscore', 'Eigen-phred', 'phyloP20way_mammalian_rankscore', 'GERP++_RS_rankscore', 'SiPhy_29way_logOdds_rankscore', 'phastCons100way_vertebrate_rankscore', 'fathmm-MKL_coding_rankscore', 'phyloP100way_vertebrate_rankscore', 'phastCons20way_mammalian_rankscore', 'GM12878_fitCons_score_rankscore', 'HUVEC_fitCons_score_rankscore', 'integrated_fitCons_score_rankscore', 'H1-hESC_fitCons_score_rankscore', 'blosum62', 'pam250', 'SUMO_diff', 'SUMO_score', 'SUMO_cutoff', 'phospho_cutoff', 'phospho_score', 'phospho_diff', 's_het_log', 'secondary_E', 'secondary_H', 'complex_CORUM', 'preppi_counts', '1000Gp3_AF', 'ExAC_AF', 'gnomad', 'ASA', 'secondary_C', 'gc_content', 'interface', 'ubiquitination', 'BioPlex']\n",
      "Loading training data...\n",
      "42 cols used: ['MutationAssessor_score_rankscore', 'VEST3_rankscore', 'Polyphen2_HDIV_rankscore', 'SIFT_converted_rankscore', 'PROVEAN_converted_rankscore', 'FATHMM_converted_rankscore', 'GenoCanyon_score_rankscore', 'LRT_converted_rankscore', 'Eigen-phred', 'phyloP20way_mammalian_rankscore', 'GERP++_RS_rankscore', 'SiPhy_29way_logOdds_rankscore', 'phastCons100way_vertebrate_rankscore', 'fathmm-MKL_coding_rankscore', 'phyloP100way_vertebrate_rankscore', 'phastCons20way_mammalian_rankscore', 'GM12878_fitCons_score_rankscore', 'HUVEC_fitCons_score_rankscore', 'integrated_fitCons_score_rankscore', 'H1-hESC_fitCons_score_rankscore', 'blosum62', 'pam250', 'SUMO_diff', 'SUMO_score', 'SUMO_cutoff', 'phospho_cutoff', 'phospho_score', 'phospho_diff', 's_het_log', 'secondary_E', 'secondary_H', 'complex_CORUM', 'preppi_counts', '1000Gp3_AF', 'ExAC_AF', 'gnomad', 'ASA', 'secondary_C', 'gc_content', 'interface', 'ubiquitination', 'BioPlex']\n",
      "Loading training data...\n",
      "42 cols used: ['MutationAssessor_score_rankscore', 'VEST3_rankscore', 'Polyphen2_HDIV_rankscore', 'SIFT_converted_rankscore', 'PROVEAN_converted_rankscore', 'FATHMM_converted_rankscore', 'GenoCanyon_score_rankscore', 'LRT_converted_rankscore', 'Eigen-phred', 'phyloP20way_mammalian_rankscore', 'GERP++_RS_rankscore', 'SiPhy_29way_logOdds_rankscore', 'phastCons100way_vertebrate_rankscore', 'fathmm-MKL_coding_rankscore', 'phyloP100way_vertebrate_rankscore', 'phastCons20way_mammalian_rankscore', 'GM12878_fitCons_score_rankscore', 'HUVEC_fitCons_score_rankscore', 'integrated_fitCons_score_rankscore', 'H1-hESC_fitCons_score_rankscore', 'blosum62', 'pam250', 'SUMO_diff', 'SUMO_score', 'SUMO_cutoff', 'phospho_cutoff', 'phospho_score', 'phospho_diff', 's_het_log', 'secondary_E', 'secondary_H', 'complex_CORUM', 'preppi_counts', '1000Gp3_AF', 'ExAC_AF', 'gnomad', 'ASA', 'secondary_C', 'gc_content', 'interface', 'ubiquitination', 'BioPlex']\n",
      "Loading training data...\n"
     ]
    },
    {
     "name": "stderr",
     "output_type": "stream",
     "text": [
      "/home/local/ARCS/hq2130/anaconda2/lib/python2.7/site-packages/IPython/core/interactiveshell.py:2881: DtypeWarning: Columns (57,61,63) have mixed types. Specify dtype option on import or set low_memory=False.\n",
      "  exec(code_obj, self.user_global_ns, self.user_ns)\n"
     ]
    },
    {
     "name": "stdout",
     "output_type": "stream",
     "text": [
      "42 cols used: ['MutationAssessor_score_rankscore', 'VEST3_rankscore', 'Polyphen2_HDIV_rankscore', 'SIFT_converted_rankscore', 'PROVEAN_converted_rankscore', 'FATHMM_converted_rankscore', 'GenoCanyon_score_rankscore', 'LRT_converted_rankscore', 'Eigen-phred', 'phyloP20way_mammalian_rankscore', 'GERP++_RS_rankscore', 'SiPhy_29way_logOdds_rankscore', 'phastCons100way_vertebrate_rankscore', 'fathmm-MKL_coding_rankscore', 'phyloP100way_vertebrate_rankscore', 'phastCons20way_mammalian_rankscore', 'GM12878_fitCons_score_rankscore', 'HUVEC_fitCons_score_rankscore', 'integrated_fitCons_score_rankscore', 'H1-hESC_fitCons_score_rankscore', 'blosum62', 'pam250', 'SUMO_diff', 'SUMO_score', 'SUMO_cutoff', 'phospho_cutoff', 'phospho_score', 'phospho_diff', 's_het_log', 'secondary_E', 'secondary_H', 'complex_CORUM', 'preppi_counts', '1000Gp3_AF', 'ExAC_AF', 'gnomad', 'ASA', 'secondary_C', 'gc_content', 'interface', 'ubiquitination', 'BioPlex']\n"
     ]
    }
   ],
   "source": [
    "# cnn \n",
    "\n",
    "weights_path = '../models/resi_model_mode1-weights-improvement-07-0.94.hdf5'\n",
    "get_last_layer = False\n",
    "layer_index = -3 # merge layer, first is negative, 1-4 is positive\n",
    "\n",
    "prefix = 'HIS.'\n",
    "\n",
    "fins = ['../data/case_control/case.anno.rare.' + prefix + 'reformat.csv',\n",
    "        '../data/case_control/DDD_new_0.2.anno.rare.' + prefix + 'reformat.csv',\n",
    "        '../data/case_control/control_1911.anno.rare.' + prefix + 'reformat.csv',\n",
    "        '../data/case_control/control_900.anno.rare.' + prefix + 'reformat.csv',\n",
    "        '../data/case_control/chd_yale.anno.rare.' + prefix + 'reformat.csv',\n",
    "        '../data/case_control/ssc_yale.anno.rare.' + prefix + 'reformat.csv',\n",
    "        '../data/cancer_hotspots/cancer.' + prefix + 'reformat.csv',\n",
    "        '../data/input_data.csv',\n",
    "        '../data/metaSVM/metaSVM_test1.anno.rare.' + prefix + 'reformat.csv',\n",
    "        '../data/metaSVM/metaSVM_test2.anno.rare.' + prefix + 'reformat.csv',\n",
    "        '../data/metaSVM/metaSVM_test3.anno.rare.' + prefix + 'reformat.csv',\n",
    "        '../data/metaSVM/metaSVM_addtest1.anno.rare.' + prefix + 'reformat.csv',\n",
    "        '../data/metaSVM/metaSVM_addtest2.anno.rare.' + prefix + 'reformat.csv',\n",
    "        '../data/metaSVM/metaSVM_train.anno.rare.' + prefix + 'reformat.csv']\n",
    "\n",
    "fouts = []\n",
    "for f in fins:\n",
    "    fouts.append(f.split('.csv')[0] + '.cnn.csv')\n",
    "\n",
    "for fin, fout in zip(fins, fouts):\n",
    "    model = CNN_Model_Mode6(weights_path=weights_path, train_flag=False, verbose=1,\n",
    "                     fname=fin, f_out=fout )\n",
    "    model.pred(get_last_layer=get_last_layer, layer_index=layer_index)"
   ]
  },
  {
   "cell_type": "code",
   "execution_count": null,
   "metadata": {
    "collapsed": true
   },
   "outputs": [],
   "source": []
  }
 ],
 "metadata": {
  "hide_input": false,
  "kernelspec": {
   "display_name": "Python [default]",
   "language": "python",
   "name": "python2"
  },
  "language_info": {
   "codemirror_mode": {
    "name": "ipython",
    "version": 2
   },
   "file_extension": ".py",
   "mimetype": "text/x-python",
   "name": "python",
   "nbconvert_exporter": "python",
   "pygments_lexer": "ipython2",
   "version": "2.7.13"
  },
  "toc": {
   "toc_cell": false,
   "toc_number_sections": true,
   "toc_threshold": 6,
   "toc_window_display": false
  }
 },
 "nbformat": 4,
 "nbformat_minor": 2
}
