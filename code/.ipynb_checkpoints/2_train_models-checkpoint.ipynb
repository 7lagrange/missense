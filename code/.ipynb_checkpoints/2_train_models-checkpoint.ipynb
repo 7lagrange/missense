{
 "cells": [
  {
   "cell_type": "code",
   "execution_count": 2,
   "metadata": {},
   "outputs": [
    {
     "name": "stderr",
     "output_type": "stream",
     "text": [
      "Using TensorFlow backend.\n"
     ]
    }
   ],
   "source": [
    "from models import CNN_Model, CNN_Model_Mode6"
   ]
  },
  {
   "cell_type": "code",
   "execution_count": 4,
   "metadata": {},
   "outputs": [
    {
     "name": "stdout",
     "output_type": "stream",
     "text": [
      "Loading training data...\n",
      "(19634, 66) (19634, 66)\n",
      "42 cols used: ['MutationAssessor_score_rankscore', 'VEST3_rankscore', 'Polyphen2_HDIV_rankscore', 'SIFT_converted_rankscore', 'PROVEAN_converted_rankscore', 'FATHMM_converted_rankscore', 'GenoCanyon_score_rankscore', 'LRT_converted_rankscore', 'Eigen-phred', 'phyloP20way_mammalian_rankscore', 'GERP++_RS_rankscore', 'SiPhy_29way_logOdds_rankscore', 'phastCons100way_vertebrate_rankscore', 'fathmm-MKL_coding_rankscore', 'phyloP100way_vertebrate_rankscore', 'phastCons20way_mammalian_rankscore', 'GM12878_fitCons_score_rankscore', 'HUVEC_fitCons_score_rankscore', 'integrated_fitCons_score_rankscore', 'H1-hESC_fitCons_score_rankscore', 'blosum62', 'pam250', 'SUMO_diff', 'SUMO_score', 'SUMO_cutoff', 'phospho_cutoff', 'phospho_score', 'phospho_diff', 's_het_log', 'secondary_E', 'secondary_H', 'complex_CORUM', 'preppi_counts', '1000Gp3_AF', 'ExAC_AF', 'gnomad', 'ASA', 'secondary_C', 'gc_content', 'interface', 'ubiquitination', 'BioPlex']\n",
      "('X_train shape:', (31414, 42, 1, 1))\n",
      "(31414, 'train samples')\n",
      "(7854, 'test samples')\n",
      "____________________________________________________________________________________________________\n",
      "Layer (type)                     Output Shape          Param #     Connected to                     \n",
      "====================================================================================================\n",
      "input (InputLayer)               (None, 42, 1, 1)      0                                            \n",
      "____________________________________________________________________________________________________\n",
      "conv2d_6 (Conv2D)                (None, 42, 1, 32)     128         input[0][0]                      \n",
      "____________________________________________________________________________________________________\n",
      "conv2d_7 (Conv2D)                (None, 42, 1, 32)     3104        conv2d_6[0][0]                   \n",
      "____________________________________________________________________________________________________\n",
      "conv2d_8 (Conv2D)                (None, 42, 1, 32)     3104        conv2d_7[0][0]                   \n",
      "____________________________________________________________________________________________________\n",
      "merge_3 (Merge)                  (None, 42, 1, 32)     0           conv2d_6[0][0]                   \n",
      "                                                                   conv2d_8[0][0]                   \n",
      "____________________________________________________________________________________________________\n",
      "activation_3 (Activation)        (None, 42, 1, 32)     0           merge_3[0][0]                    \n",
      "____________________________________________________________________________________________________\n",
      "max_pooling2d_3 (MaxPooling2D)   (None, 21, 1, 32)     0           activation_3[0][0]               \n",
      "____________________________________________________________________________________________________\n",
      "conv2d_9 (Conv2D)                (None, 21, 1, 32)     3104        max_pooling2d_3[0][0]            \n",
      "____________________________________________________________________________________________________\n",
      "conv2d_10 (Conv2D)               (None, 21, 1, 32)     3104        conv2d_9[0][0]                   \n",
      "____________________________________________________________________________________________________\n",
      "merge_4 (Merge)                  (None, 21, 1, 32)     0           max_pooling2d_3[0][0]            \n",
      "                                                                   conv2d_10[0][0]                  \n",
      "____________________________________________________________________________________________________\n",
      "activation_4 (Activation)        (None, 21, 1, 32)     0           merge_4[0][0]                    \n",
      "____________________________________________________________________________________________________\n",
      "max_pooling2d_4 (MaxPooling2D)   (None, 10, 1, 32)     0           activation_4[0][0]               \n",
      "____________________________________________________________________________________________________\n",
      "flatten_2 (Flatten)              (None, 320)           0           max_pooling2d_4[0][0]            \n",
      "____________________________________________________________________________________________________\n",
      "dense_2 (Dense)                  (None, 512)           164352      flatten_2[0][0]                  \n",
      "____________________________________________________________________________________________________\n",
      "dense1 (Dense)                   (None, 1)             513         dense_2[0][0]                    \n",
      "____________________________________________________________________________________________________\n",
      "act2 (Activation)                (None, 1)             0           dense1[0][0]                     \n",
      "====================================================================================================\n",
      "Total params: 177,409\n",
      "Trainable params: 177,409\n",
      "Non-trainable params: 0\n",
      "____________________________________________________________________________________________________\n",
      "None\n",
      "--------------------------------------------------\n",
      "Training...\n",
      "--------------------------------------------------\n",
      "Fitting  model...\n",
      "Train on 31414 samples, validate on 7854 samples\n",
      "Epoch 1/15\n",
      "Epoch 00000: val_loss improved from inf to 0.21273, saving model to ../models/res_HIS-weights-improvement-00-0.92.hdf5\n",
      "14s - loss: 0.4731 - acc: 0.8532 - val_loss: 0.2127 - val_acc: 0.9188\n",
      "Epoch 2/15\n",
      "Epoch 00001: val_loss improved from 0.21273 to 0.17141, saving model to ../models/res_HIS-weights-improvement-01-0.94.hdf5\n",
      "13s - loss: 0.1804 - acc: 0.9303 - val_loss: 0.1714 - val_acc: 0.9362\n",
      "Epoch 3/15\n",
      "Epoch 00002: val_loss improved from 0.17141 to 0.15763, saving model to ../models/res_HIS-weights-improvement-02-0.94.hdf5\n",
      "13s - loss: 0.1583 - acc: 0.9396 - val_loss: 0.1576 - val_acc: 0.9402\n",
      "Epoch 4/15\n",
      "Epoch 00003: val_loss did not improve\n",
      "13s - loss: 0.1525 - acc: 0.9427 - val_loss: 0.1578 - val_acc: 0.9402\n",
      "Epoch 5/15\n",
      "Epoch 00004: val_loss did not improve\n",
      "13s - loss: 0.1473 - acc: 0.9442 - val_loss: 0.1794 - val_acc: 0.9340\n",
      "Epoch 6/15\n",
      "Epoch 00005: val_loss did not improve\n",
      "14s - loss: 0.1457 - acc: 0.9452 - val_loss: 0.1650 - val_acc: 0.9371\n",
      "Epoch 7/15\n",
      "Epoch 00006: val_loss did not improve\n",
      "13s - loss: 0.1416 - acc: 0.9474 - val_loss: 0.1608 - val_acc: 0.9400\n",
      "Epoch 8/15\n",
      "Epoch 00007: val_loss improved from 0.15763 to 0.15102, saving model to ../models/res_HIS-weights-improvement-07-0.95.hdf5\n",
      "13s - loss: 0.1375 - acc: 0.9486 - val_loss: 0.1510 - val_acc: 0.9460\n",
      "Epoch 9/15\n",
      "Epoch 00008: val_loss improved from 0.15102 to 0.14532, saving model to ../models/res_HIS-weights-improvement-08-0.95.hdf5\n",
      "13s - loss: 0.1338 - acc: 0.9499 - val_loss: 0.1453 - val_acc: 0.9481\n",
      "Epoch 10/15\n",
      "Epoch 00009: val_loss did not improve\n",
      "13s - loss: 0.1305 - acc: 0.9512 - val_loss: 0.1468 - val_acc: 0.9445\n",
      "Epoch 11/15\n",
      "Epoch 00010: val_loss improved from 0.14532 to 0.13637, saving model to ../models/res_HIS-weights-improvement-10-0.95.hdf5\n",
      "12s - loss: 0.1283 - acc: 0.9519 - val_loss: 0.1364 - val_acc: 0.9507\n",
      "Epoch 12/15\n",
      "Epoch 00011: val_loss did not improve\n",
      "13s - loss: 0.1244 - acc: 0.9540 - val_loss: 0.1458 - val_acc: 0.9472\n",
      "Epoch 13/15\n",
      "Epoch 00012: val_loss did not improve\n",
      "14s - loss: 0.1204 - acc: 0.9552 - val_loss: 0.1489 - val_acc: 0.9467\n",
      "Epoch 14/15\n",
      "Epoch 00013: val_loss did not improve\n",
      "12s - loss: 0.1205 - acc: 0.9548 - val_loss: 0.1423 - val_acc: 0.9488\n",
      "Epoch 15/15\n",
      "Epoch 00014: val_loss did not improve\n",
      "13s - loss: 0.1149 - acc: 0.9579 - val_loss: 0.1395 - val_acc: 0.9528\n",
      "('Test score:', 0.13945670927530152)\n",
      "('Test accuracy:', 0.95276292336633683)\n"
     ]
    }
   ],
   "source": [
    "prefix = 'HIS'\n",
    "weights_path = None \n",
    "model = CNN_Model_Mode6(weights_path=weights_path, train_flag=True, verbose=2,\n",
    "                       nb_epoch=15, batch_size=64, \n",
    "                       name = 'res_' + prefix, \n",
    "                       fname='../data/input_data.' + prefix + '.csv', f_out = '../data/output/output_data_mode5.csv')\n",
    "\n",
    "model.train(sub_sample=True)\n",
    "model.pred(get_last_layer=False)"
   ]
  },
  {
   "cell_type": "markdown",
   "metadata": {},
   "source": [
    "# HS genes training"
   ]
  },
  {
   "cell_type": "code",
   "execution_count": null,
   "metadata": {
    "collapsed": true
   },
   "outputs": [],
   "source": [
    "prefix = 'HS'\n",
    "weights_path = None \n",
    "model = CNN_Model_Mode6(weights_path=weights_path, train_flag=True, verbose=2,\n",
    "                       nb_epoch=15, batch_size=64, \n",
    "                       name = 'res_' + prefix, \n",
    "                       fname='../data/input_data.' + prefix + '.csv', f_out = '../data/output/output_HS_data_mode5.csv')\n",
    "\n",
    "model.train(sub_sample=True)\n",
    "model.pred(get_last_layer=False)"
   ]
  }
 ],
 "metadata": {
  "kernelspec": {
   "display_name": "Python [default]",
   "language": "python",
   "name": "python2"
  },
  "language_info": {
   "codemirror_mode": {
    "name": "ipython",
    "version": 2
   },
   "file_extension": ".py",
   "mimetype": "text/x-python",
   "name": "python",
   "nbconvert_exporter": "python",
   "pygments_lexer": "ipython2",
   "version": "2.7.13"
  }
 },
 "nbformat": 4,
 "nbformat_minor": 2
}
