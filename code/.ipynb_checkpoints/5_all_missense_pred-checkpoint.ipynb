{
 "cells": [
  {
   "cell_type": "code",
   "execution_count": null,
   "metadata": {},
   "outputs": [],
   "source": [
    "import csv\n",
    "import os\n",
    "from models import CNN_Model, CNN_Model_Mode6"
   ]
  },
  {
   "cell_type": "code",
   "execution_count": null,
   "metadata": {},
   "outputs": [],
   "source": [
    "# split the files\n",
    "fname = '/data/hq2130/large_files/rare_missense_id.anno.rare.HIS.reformat.csv'\n",
    "idx, lines_per_file, count = 0, 1350000, 0\n",
    "with open(fname, 'rU') as f:\n",
    "    r = csv.reader(f)\n",
    "    head = r.next()\n",
    "    for line in r:\n",
    "        if count == 0:\n",
    "            outname = fname.split('.csv')[0]+'_idx_'+ str(idx) + '.csv'\n",
    "            fw = open(outname, 'wb')\n",
    "            w = csv.writer(fw)\n",
    "            w.writerow(head)\n",
    "            w.writerow(line)\n",
    "            count += 1\n",
    "        else:\n",
    "            count += 1\n",
    "            w.writerow(line)\n",
    "            if count > lines_per_file:\n",
    "                fw.close()\n",
    "                idx += 1\n",
    "                count = 0\n",
    "    fw.close()\n",
    "    "
   ]
  },
  {
   "cell_type": "code",
   "execution_count": null,
   "metadata": {
    "collapsed": true
   },
   "outputs": [],
   "source": [
    "# split the files\n",
    "fname = '/data/hq2130/large_files/rare_missense_id.anno.rare.HS.reformat.csv'\n",
    "idx, lines_per_file, count = 0, 1350000, 0\n",
    "with open(fname, 'rU') as f:\n",
    "    r = csv.reader(f)\n",
    "    head = r.next()\n",
    "    for line in r:\n",
    "        if count == 0:\n",
    "            outname = fname.split('.csv')[0]+'_idx_'+ str(idx) + '.csv'\n",
    "            fw = open(outname, 'wb')\n",
    "            w = csv.writer(fw)\n",
    "            w.writerow(head)\n",
    "            w.writerow(line)\n",
    "            count += 1\n",
    "        else:\n",
    "            count += 1\n",
    "            w.writerow(line)\n",
    "            if count > lines_per_file:\n",
    "                fw.close()\n",
    "                idx += 1\n",
    "                count = 0\n",
    "    fw.close()"
   ]
  },
  {
   "cell_type": "code",
   "execution_count": null,
   "metadata": {},
   "outputs": [],
   "source": [
    "# cnn \n",
    "\n",
    "prefix = 'HIS.'\n",
    "weights_path = '../models/res_HIS-weights-improvement-07-0.94.hdf5'\n",
    "#07-0.94 or 10-0.95 15-0.95 looks fine 07-0.94 looks best \n",
    "get_last_layer = False\n",
    "layer_index = -3 # merge layer, first is negative, 1-4 is positive\n",
    "\n",
    "\n",
    "dir_all = '/data/hq2130/large_files/'\n",
    "\n",
    "fins = []\n",
    "for fname in os.listdir(dir_all):\n",
    "    if fname.startswith('rare_missense_id.anno.rare.HIS.reformat_idx'):\n",
    "        fins.append(dir_all + fname)\n",
    "\n",
    "\n",
    "fouts = []\n",
    "for f in fins:\n",
    "    fouts.append(f.split('.csv')[0] + '.cnn.csv')\n",
    "\n",
    "for fin, fout in zip(fins, fouts):\n",
    "    model = CNN_Model_Mode6(weights_path=weights_path, train_flag=False, verbose=0,\n",
    "                     fname=fin, f_out=fout )\n",
    "    model.pred(get_last_layer=get_last_layer, layer_index=layer_index)"
   ]
  },
  {
   "cell_type": "code",
   "execution_count": null,
   "metadata": {
    "collapsed": true
   },
   "outputs": [],
   "source": [
    "# cnn \n",
    "\n",
    "prefix = 'HS.'\n",
    "weights_path = '../models/res_HIS-weights-improvement-07-0.94.hdf5'\n",
    "#07-0.94 or 10-0.95 15-0.95 looks fine 07-0.94 looks best \n",
    "get_last_layer = False\n",
    "layer_index = -3 # merge layer, first is negative, 1-4 is positive\n",
    "\n",
    "fins = []\n",
    "for fname in os.listdir(dir_all):\n",
    "    if fname.startswith('rare_missense_id.anno.rare.HS.reformat_idx'):\n",
    "        fins.append(dir_all + fname)\n",
    "\n",
    "\n",
    "fouts = []\n",
    "for f in fins:\n",
    "    fouts.append(f.split('.csv')[0] + '.cnn.csv')\n",
    "\n",
    "for fin, fout in zip(fins, fouts):\n",
    "    model = CNN_Model_Mode6(weights_path=weights_path, train_flag=False, verbose=0,\n",
    "                     fname=fin, f_out=fout )\n",
    "    model.pred(get_last_layer=get_last_layer, layer_index=layer_index)"
   ]
  },
  {
   "cell_type": "code",
   "execution_count": null,
   "metadata": {},
   "outputs": [],
   "source": [
    "\n",
    "fw = open(dir_all + 'All_rare_missense.txt', 'w')\n",
    "head = ['CHROM', 'POS', 'REF','ALT', 'MVP_score']\n",
    "fw.write('\\t'.join(head) + '\\n')\n",
    "for fname in os.listdir(dir_all):\n",
    "    if 'cnn' in fname and 'rare' in fname:\n",
    "        with open(dir_all + fname, 'rU') as f:\n",
    "            r = csv.reader(f)\n",
    "            head = r.next()\n",
    "            for line in r:\n",
    "                variant = dict(zip(head, line))\n",
    "                info = [variant['hg19_chr'], variant['hg19_pos(1-based)'], variant['ref'], variant['alt'], variant['cnn_prob']]\n",
    "                fw.write('\\t'.join(info) + '\\n')"
   ]
  },
  {
   "cell_type": "code",
   "execution_count": null,
   "metadata": {
    "collapsed": true
   },
   "outputs": [],
   "source": []
  }
 ],
 "metadata": {
  "hide_input": false,
  "kernelspec": {
   "display_name": "Python [default]",
   "language": "python",
   "name": "python2"
  },
  "language_info": {
   "codemirror_mode": {
    "name": "ipython",
    "version": 2
   },
   "file_extension": ".py",
   "mimetype": "text/x-python",
   "name": "python",
   "nbconvert_exporter": "python",
   "pygments_lexer": "ipython2",
   "version": "2.7.13"
  },
  "toc": {
   "toc_cell": false,
   "toc_number_sections": true,
   "toc_threshold": 6,
   "toc_window_display": false
  }
 },
 "nbformat": 4,
 "nbformat_minor": 2
}
